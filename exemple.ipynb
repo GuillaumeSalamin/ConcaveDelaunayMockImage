{
 "cells": [
  {
   "cell_type": "markdown",
   "metadata": {},
   "source": [
    "# Concave Delaunay triangulation refinement"
   ]
  },
  {
   "cell_type": "markdown",
   "metadata": {},
   "source": [
    "This jupyter notebook explains how to use the function _compute\\_final\\_cell()_ to compute the deformed phase-space cell with conserved volume. This makes it possible to parallelize the code in the way that suits the computing system. "
   ]
  },
  {
   "cell_type": "markdown",
   "metadata": {},
   "source": [
    "## Computation of the Delaunay triangulation.\n",
    "\n",
    "Before using any function to compute the deformed cell. The Delaunay triangulation of the initial frame must be computed. \\\n",
    "First the YAML file must be filled. \\\n",
    "Then run the python script CreateTri.py. It will create two pickle objects. One being the Delaunay triangulation (from scipy) and the other the neighbouring list of each point of the triangulation (computed and save to optimize computation time). \\\n",
    "Once the triangulation and neighbour’s list are created the phase space cell with conserved volume can be computed. The notebook show how to do it."
   ]
  },
  {
   "cell_type": "markdown",
   "metadata": {},
   "source": [
    "### 1) download the neccessary library "
   ]
  },
  {
   "cell_type": "code",
   "execution_count": 1,
   "metadata": {},
   "outputs": [
    {
     "name": "stderr",
     "output_type": "stream",
     "text": [
      "--------------------------------------------------------------------------\n",
      "WARNING: There is at least one non-excluded one OpenFabrics device found,\n",
      "but there are no active ports detected (or Open MPI was unable to use\n",
      "them).  This is most certainly not what you wanted.  Check your\n",
      "cables, subnet manager configuration, etc.  The openib BTL will be\n",
      "ignored for this job.\n",
      "\n",
      "  Local host: lesta02\n",
      "--------------------------------------------------------------------------\n"
     ]
    }
   ],
   "source": [
    "import numpy as np\n",
    "from scipy.spatial import Delaunay\n",
    "import matplotlib.pyplot as plt\n",
    "from pNbody import*\n",
    "import pickle\n",
    "import yaml\n",
    "import matplotlib\n",
    "matplotlib.rcParams.update({'font.size': 14})\n",
    "\n",
    "from concaveDelaunayRefinement import*\n",
    "from toolMockImage import*"
   ]
  },
  {
   "cell_type": "markdown",
   "metadata": {},
   "source": [
    "## 2) Download the information from the YAML file and the pickle object"
   ]
  },
  {
   "cell_type": "code",
   "execution_count": 2,
   "metadata": {},
   "outputs": [
    {
     "name": "stdout",
     "output_type": "stream",
     "text": [
      "The variable 'Neighbors' has been loaded successfully.\n",
      "The variable 'Tri' has been loaded successfully.\n"
     ]
    }
   ],
   "source": [
    "with open(\"paraImage.yaml\") as stream:\n",
    "    try:\n",
    "        para = yaml.safe_load(stream)\n",
    "    except yaml.YAMLError as exc:\n",
    "        print(exc)\n",
    "\n",
    "ImageFrame = para[\"SimulationName\"]\n",
    "trans = para[\"translation\"]\n",
    "triName = para[\"triSaveName\"]\n",
    "NeighborsName = para[\"NeighborsSaveName\"]\n",
    "InitialFrame = para[\"InitialFrameName\"]\n",
    "Nmin = para[\"Nmin\"]\n",
    "Rmax = para[\"Rmax\"]\n",
    "halfBoxSize = para[\"halfBoxSize\"]\n",
    "\n",
    "\n",
    "file_path = NeighborsName\n",
    "with open(file_path, 'rb') as file:\n",
    "    loaded_data = pickle.load(file)\n",
    "\n",
    "print(\"The variable 'Neighbors' has been loaded successfully.\")\n",
    "\n",
    "neighbors = loaded_data\n",
    "\n",
    "file_path = triName\n",
    "with open(file_path, 'rb') as file:\n",
    "    loaded_data = pickle.load(file)\n",
    "\n",
    "print(\"The variable 'Tri' has been loaded successfully.\")\n",
    "\n",
    "tri0 = loaded_data"
   ]
  },
  {
   "cell_type": "markdown",
   "metadata": {},
   "source": [
    "## 3) Download the initial frame and the image frame. Compute and save the scaling\n",
    "\n",
    "The function get_nbScaledList return a list [Nbody object of initial frame (scaled), Nbody object of image frame (scaled)] (Nbody object of pNbody) and the list of standard deviation before scaling [$\\sigma_x, \\sigma_y,\\sigma_z,\\sigma_{v_x},\\sigma_{v_y},\\sigma_{v_z}$]. This function is made to give the necessary variable of _compute\\_final\\_cell()_."
   ]
  },
  {
   "cell_type": "code",
   "execution_count": 3,
   "metadata": {},
   "outputs": [],
   "source": [
    "nb_scaled_tList,std_list = get_nbScaledList(InitialFrame,ImageFrame,trans)"
   ]
  },
  {
   "cell_type": "markdown",
   "metadata": {},
   "source": [
    "## 4) compute the cell with conserved volume\n",
    "\n",
    "The function _compute\\_final\\_cell()_ return the deformed phase-space cell. The cell is defined and its volume computed in the initial frame. Then the cell is reconstructed in the image frame by forcing phase space volume conservation. The function returns the flag, 0 if the cell is correctly reconstructed, 1 otherwise and a list of 6 dimensional triangle. The cell is constituted of those 6 Dimensional triangles. \\\n",
    "\\\n",
    "_compute\\_final\\_cell()_ take as the first argument the id of the particle. The id of a particle can be found using pNbody nb.num. The Nbody object are found in nb_scaled_tList. A good practice will be to define variable nb0 = nb_scaled_tList[0]. \\\n",
    "Then to apply the function _compute\\_final\\_cell()_ on all particles its need to run a loop _for id in nb0.num_. Realistically this loop takes too much time (more than 10 days for 100'000 particles). The code must be parallelized. The way someone does parallelization be let to the user. (One parallelization (and cell projection) is made with PartialImage.py).\\\n",
    "Once all the deformed cell has been computed they need to be projected. One way to project they are made in PartialImage.py and BuildImage.py but they are not the only (or optimal for other computing systems) way to do the projection (and they need a DirectX11 environment). "
   ]
  },
  {
   "cell_type": "code",
   "execution_count": 4,
   "metadata": {},
   "outputs": [
    {
     "name": "stdout",
     "output_type": "stream",
     "text": [
      "DEBBUG :: cell creation\n",
      "flag=0\n",
      "DEBUG : Concave Delaunay Algorithm\n",
      "DEBUG :: Volume_evolution_Liouville_condition_concave_delaunay_refinements_test :: Creation des triangulation de Delaunay\n",
      "DEBUG :: Volume_evolution_Liouville_condition_concave_delaunay_refinements_test :: Calcule du phase-space volume\n",
      "DEBUG :: Volume_evolution_Liouville_condition_concave_delaunay_refinements_test :: phase-space volume V = 1174.8541633360267\n",
      "Calcul du concave delaunay frame 1\n",
      "DV/V = 2.6619440430856893%\n",
      "flag=0\n"
     ]
    }
   ],
   "source": [
    "flag,triangle6D_list = compute_final_cell(nb_scaled_tList[0].num[50],nb_scaled_tList,neighbors,Rmax,Nmin,std_list,verbos=True)"
   ]
  },
  {
   "cell_type": "markdown",
   "metadata": {},
   "source": []
  }
 ],
 "metadata": {
  "kernelspec": {
   "display_name": "Python 3",
   "language": "python",
   "name": "python3"
  },
  "language_info": {
   "codemirror_mode": {
    "name": "ipython",
    "version": 3
   },
   "file_extension": ".py",
   "mimetype": "text/x-python",
   "name": "python",
   "nbconvert_exporter": "python",
   "pygments_lexer": "ipython3",
   "version": "3.12.3"
  }
 },
 "nbformat": 4,
 "nbformat_minor": 2
}
