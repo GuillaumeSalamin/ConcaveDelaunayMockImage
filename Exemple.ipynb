{
 "cells": [
  {
   "cell_type": "code",
   "execution_count": 2,
   "metadata": {},
   "outputs": [],
   "source": [
    "import numpy as np\n",
    "from scipy.spatial import Delaunay\n",
    "import matplotlib.pyplot as plt\n",
    "#from pNbody import*\n",
    "\n",
    "from concaveDelaunayRefinement import*\n",
    "from toolMockImage import*\n",
    "\n",
    "import pickle\n",
    "import yaml\n",
    "import matplotlib\n",
    "matplotlib.rcParams.update({'font.size': 14})"
   ]
  },
  {
   "cell_type": "code",
   "execution_count": 16,
   "metadata": {},
   "outputs": [],
   "source": [
    "from toolMockImage import*\n",
    "import numpy as np\n",
    "from scipy.spatial import Delaunay\n",
    "import matplotlib.pyplot as plt\n",
    "import pickle \n",
    "import yaml\n",
    "\n",
    "with open(\"paraImage.yaml\") as stream:\n",
    "    try:\n",
    "        para = yaml.safe_load(stream)\n",
    "    except yaml.YAMLError as exc:\n",
    "        print(exc)\n",
    "\n",
    "name = para[\"SimulationName\"]\n",
    "trans = para[\"translation\"]\n",
    "rot = para[\"rotation\"]\n",
    "triName = para[\"triSaveName\"]\n",
    "NeighborsName = para[\"NeighborsSaveName\"]\n",
    "InitialFrame = para[\"InitialFrameName\"]\n",
    "triangleFolder = para[\"triangleFolder\"]\n",
    "axe1 = para[\"axe1\"]\n",
    "axe2 = para[\"axe2\"]\n",
    "Nmin = para[\"Nmin\"]\n",
    "Rmax = para[\"Rmax\"]\n",
    "halfBoxSize = para[\"halfBoxSize\"]"
   ]
  },
  {
   "cell_type": "code",
   "execution_count": 15,
   "metadata": {},
   "outputs": [
    {
     "name": "stdout",
     "output_type": "stream",
     "text": [
      "<pNbody.main.Nbody object at 0x7f1b45b65ee0>\n"
     ]
    }
   ],
   "source": [
    "name = '/srv/astro/projects/clastro/revaz/ARRAKIHS/SWIFT_UFDS_TidalStripping/Sims/DW103/snap/snapshot_0066_stars.hdf5'\n",
    "nb = Nbody(name,ftype='swift')\n",
    "\n",
    "nb.translate(trans)\n",
    "print(nb)"
   ]
  },
  {
   "cell_type": "code",
   "execution_count": 19,
   "metadata": {},
   "outputs": [],
   "source": [
    "def download_simulation(name,trans,rot):\n",
    "    \"\"\"\n",
    "    def download_simulation(name,trans,rot):\n",
    "    Download un fichier hdf5 contenant une snapshot de Nbody simulation.\n",
    "    La function utilise pNbody et la simulation doit provenir du code SWIFT.\n",
    "    - name : string du path au ficheir hdf5\n",
    "    - trans : vecteur [x,y,z] de la translation de la simulation avec pNbody, nb = nb.translate(trans) (le code a besoin que les particules soit centrer en (0,0,0))\n",
    "    - rota : angle de rotation de pNbody, nb = nb.rotate(angle=rot)\n",
    "    \"\"\"\n",
    "\n",
    "\n",
    "    nb = Nbody(name,ftype='swift')\n",
    "\n",
    "    nb.translate(trans)\n",
    "    #nb = nb.rotate(angle=rot)\n",
    "    return nb\n"
   ]
  },
  {
   "cell_type": "code",
   "execution_count": 20,
   "metadata": {},
   "outputs": [],
   "source": [
    "nb0 = download_simulation(name,trans,rot)"
   ]
  },
  {
   "cell_type": "code",
   "execution_count": 21,
   "metadata": {},
   "outputs": [
    {
     "data": {
      "text/plain": [
       "array([[-221.4454   ,  -92.253265 ,  -21.174255 ],\n",
       "       [-173.30063  ,    5.2429504,   59.71399  ],\n",
       "       [ -96.02725  ,   -4.821228 , -110.23126  ],\n",
       "       ...,\n",
       "       [  96.16742  ,   32.76367  ,  111.48193  ],\n",
       "       [ 134.60632  ,   95.389465 ,  -68.747375 ],\n",
       "       [ 179.64587  ,  -23.69696  ,  -92.77368  ]], dtype=float32)"
      ]
     },
     "execution_count": 21,
     "metadata": {},
     "output_type": "execute_result"
    }
   ],
   "source": [
    "nb0.pos"
   ]
  },
  {
   "cell_type": "code",
   "execution_count": 22,
   "metadata": {},
   "outputs": [],
   "source": [
    "\n",
    "std_list = compute_std(nb0)\n",
    "nb0_scaled = scale_nb(nb0,std_list)"
   ]
  },
  {
   "cell_type": "code",
   "execution_count": null,
   "metadata": {},
   "outputs": [],
   "source": []
  },
  {
   "cell_type": "markdown",
   "metadata": {},
   "source": [
    "# test de PartialImage.py"
   ]
  },
  {
   "cell_type": "code",
   "execution_count": 1,
   "metadata": {},
   "outputs": [
    {
     "name": "stdout",
     "output_type": "stream",
     "text": [
      "Library\n"
     ]
    },
    {
     "name": "stdout",
     "output_type": "stream",
     "text": [
      "numpy\n",
      "Delaunay\n",
      "matplotlib.pyplot\n"
     ]
    },
    {
     "name": "stderr",
     "output_type": "stream",
     "text": [
      "--------------------------------------------------------------------------\n",
      "WARNING: There is at least one non-excluded one OpenFabrics device found,\n",
      "but there are no active ports detected (or Open MPI was unable to use\n",
      "them).  This is most certainly not what you wanted.  Check your\n",
      "cables, subnet manager configuration, etc.  The openib BTL will be\n",
      "ignored for this job.\n",
      "\n",
      "  Local host: lesta02\n",
      "--------------------------------------------------------------------------\n"
     ]
    },
    {
     "name": "stdout",
     "output_type": "stream",
     "text": [
      "pNbody\n",
      "concaveDelaunayRefinement\n",
      "toolMockImage\n",
      "pickle\n",
      "yaml\n",
      "matplolib\n",
      "sys\n"
     ]
    }
   ],
   "source": [
    "print('Library')\n",
    "\n",
    "import numpy as np\n",
    "print('numpy')\n",
    "from scipy.spatial import Delaunay\n",
    "print(\"Delaunay\")\n",
    "import matplotlib.pyplot as plt\n",
    "print(\"matplotlib.pyplot\")\n",
    "from pNbody import*\n",
    "print(\"pNbody\")\n",
    "\n",
    "from concaveDelaunayRefinement import*\n",
    "print(\"concaveDelaunayRefinement\")\n",
    "\n",
    "from toolMockImage import*\n",
    "print(\"toolMockImage\")\n",
    "\n",
    "import pickle\n",
    "print(\"pickle\")\n",
    "import yaml\n",
    "print(\"yaml\")\n",
    "import matplotlib\n",
    "print(\"matplolib\")\n",
    "matplotlib.rcParams.update({'font.size': 14})\n",
    "\n",
    "import sys\n",
    "print(\"sys\")\n"
   ]
  },
  {
   "cell_type": "code",
   "execution_count": 2,
   "metadata": {},
   "outputs": [
    {
     "name": "stdout",
     "output_type": "stream",
     "text": [
      "Partial Image start\n",
      "scaling data\n",
      "The variable 'Neighbors' has been loaded successfully.\n",
      "The variable 'Tri' has been loaded successfully.\n",
      "parameter_a_list =[1]\n"
     ]
    }
   ],
   "source": [
    "\n",
    "print(\"Partial Image start\")\n",
    "\n",
    "with open(\"paraImage.yaml\") as stream:\n",
    "    try:\n",
    "        para = yaml.safe_load(stream)\n",
    "    except yaml.YAMLError as exc:\n",
    "        print(exc)\n",
    "\n",
    "name = para[\"SimulationName\"]\n",
    "trans = para[\"translation\"]\n",
    "triName = para[\"triSaveName\"]\n",
    "NeighborsName = para[\"NeighborsSaveName\"]\n",
    "InitialFrame = para[\"InitialFrameName\"]\n",
    "triangleFolder = para[\"triangleFolder\"]\n",
    "axe1 = para[\"axe1\"]\n",
    "axe2 = para[\"axe2\"]\n",
    "Nmin = para[\"Nmin\"]\n",
    "Rmax = para[\"Rmax\"]\n",
    "halfBoxSize = para[\"halfBoxSize\"]\n",
    "\n",
    "\n",
    "print('scaling data')\n",
    "nb0 = download_simulation(InitialFrame,trans)\n",
    "std_list = compute_std(nb0)\n",
    "nb0_scaled = scale_nb(nb0,std_list)\n",
    "\n",
    "nb = download_simulation(name,trans)\n",
    "nb_scaled = scale_nb(nb,std_list)\n",
    "\n",
    "nb_scaled_tList = [nb0_scaled,nb_scaled]\n",
    "\n",
    "file_path = NeighborsName\n",
    "with open(file_path, 'rb') as file:\n",
    "    loaded_data = pickle.load(file)\n",
    "\n",
    "print(\"The variable 'Neighbors' has been loaded successfully.\")\n",
    "\n",
    "neighbors = loaded_data\n",
    "\n",
    "file_path = triName\n",
    "with open(file_path, 'rb') as file:\n",
    "    loaded_data = pickle.load(file)\n",
    "\n",
    "print(\"The variable 'Tri' has been loaded successfully.\")\n",
    "\n",
    "tri0 = loaded_data\n",
    "\n",
    "filePara = 1#int(sys.argv[1])\n",
    "\n",
    "parameter_a_list = []\n",
    "#for ii in range(10):\n",
    "#    parameter_a_list.append(filePara*10+ii)\n",
    "parameter_a_list.append(filePara)\n",
    "print(f'parameter_a_list ={parameter_a_list}')\n"
   ]
  },
  {
   "cell_type": "markdown",
   "metadata": {},
   "source": [
    "### code retirer a toolMockImage.py"
   ]
  },
  {
   "cell_type": "code",
   "execution_count": 3,
   "metadata": {},
   "outputs": [],
   "source": []
  },
  {
   "cell_type": "code",
   "execution_count": 5,
   "metadata": {},
   "outputs": [
    {
     "name": "stdout",
     "output_type": "stream",
     "text": [
      "DEBBUG :: tri-file parameter 1\n",
      "DEBBUG :: iteration 1 of 1\n",
      "DEBBUG :: cell creation\n",
      "flag=0\n",
      "DEBUG : Concave Delaunay Algorithm\n",
      "DV/V = 0.3429524422101256%\n",
      "0\n",
      "vertexList2d\n",
      "projection_6d_to_2d\n",
      "1\n",
      "number of triangle :: 19839\n",
      "The variable \"data\" has been saved successfully. \n",
      " File name :: /home/astro/ggsalami/ggsalami/TP4b/ConcaveDelaunayMockImage/saveVariable/triangle/Partial_Image_1_data.pickle\n"
     ]
    }
   ],
   "source": [
    "\n",
    "for parameter_a in parameter_a_list:\n",
    "    cell_id_list = []\n",
    "    triangle_List = []\n",
    "    opacity_list = []\n",
    "    data = []\n",
    "    for ii in range(len(nb_scaled_tList[0].num)):\n",
    "        if ii==25:#ii%100==parameter_a:\n",
    "            cell_id_list.append(ii)\n",
    "\n",
    "    n = len(cell_id_list)\n",
    "    jj=0\n",
    "    print(f'DEBBUG :: tri-file parameter {parameter_a}')\n",
    "    \n",
    "    for p_id in cell_id_list:\n",
    "        jj=jj+1\n",
    "        print(f'DEBBUG :: iteration {jj} of {len(cell_id_list)}')\n",
    "        print(f'DEBBUG :: cell creation')\n",
    "        w_scale_tList = create_w_tList_cell(nb_scaled_tList,neighbors,p_id,Rmax=Rmax)\n",
    "        flag = 0\n",
    "        if len(w_scale_tList[0])<Nmin:\n",
    "            flag=1\n",
    "        else:\n",
    "            print('flag=0')\n",
    "            print('DEBUG : Concave Delaunay Algorithm')\n",
    "            index_conserved_simplex_tList,tri_tList,flag_tList = Volume_evolution_Liouville_condition_concave_delaunay_refinements(w_scale_tList,error_max=5,verbos=False)\n",
    "            flag = flag_tList[-1]\n",
    "            \n",
    "\n",
    "            index_List = index_conserved_simplex_tList[-1]\n",
    "            tri = tri_tList[-1]\n",
    "            V_cons = delaunay_volume_6D(tri_tList[0])\n",
    "\n",
    "            if flag==0:\n",
    "                print(0)\n",
    "                tmp,opa = VertexList2d(tri,std_list,index_List,axe1,axe2,halfBoxSize)\n",
    "                print(1)\n",
    "                opa = opa/V_cons\n",
    "                triangle_List = [*triangle_List,*tmp]\n",
    "                opacity_list = [*opacity_list,*opa]\n",
    "        if flag==1:\n",
    "            # code to add light in an other way\n",
    "            print('flag=1')\n",
    "    \n",
    "    print(f'number of triangle :: {len(triangle_List)}')\n",
    "    name = f'Partial_Image_{parameter_a}'\n",
    "\n",
    "    \n",
    "    for ii in range(len(triangle_List)):\n",
    "        data.append([triangle_List[ii][0],triangle_List[ii][1],opacity_list[ii//3]])\n",
    "\n",
    "\n",
    "    file_path_data = f'{triangleFolder}/{name}_data.pickle'\n",
    "    with open(file_path_data, 'wb') as file:\n",
    "        # Serialize and write the variable to the file\n",
    "        pickle.dump(data, file)\n",
    "\n",
    "    print(f'The variable \"data\" has been saved successfully. \\n File name :: {file_path_data}')"
   ]
  },
  {
   "cell_type": "code",
   "execution_count": null,
   "metadata": {},
   "outputs": [],
   "source": []
  }
 ],
 "metadata": {
  "kernelspec": {
   "display_name": "Python 3",
   "language": "python",
   "name": "python3"
  },
  "language_info": {
   "codemirror_mode": {
    "name": "ipython",
    "version": 3
   },
   "file_extension": ".py",
   "mimetype": "text/x-python",
   "name": "python",
   "nbconvert_exporter": "python",
   "pygments_lexer": "ipython3",
   "version": "3.12.3"
  }
 },
 "nbformat": 4,
 "nbformat_minor": 2
}
