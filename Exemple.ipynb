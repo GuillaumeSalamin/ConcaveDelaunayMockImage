{
 "cells": [
  {
   "cell_type": "code",
   "execution_count": 2,
   "metadata": {},
   "outputs": [],
   "source": [
    "import numpy as np\n",
    "from scipy.spatial import Delaunay\n",
    "import matplotlib.pyplot as plt\n",
    "#from pNbody import*\n",
    "\n",
    "from concaveDelaunayRefinement import*\n",
    "from toolMockImage import*\n",
    "\n",
    "import pickle\n",
    "import yaml\n",
    "import matplotlib\n",
    "matplotlib.rcParams.update({'font.size': 14})"
   ]
  },
  {
   "cell_type": "code",
   "execution_count": 16,
   "metadata": {},
   "outputs": [],
   "source": [
    "from toolMockImage import*\n",
    "import numpy as np\n",
    "from scipy.spatial import Delaunay\n",
    "import matplotlib.pyplot as plt\n",
    "import pickle \n",
    "import yaml\n",
    "\n",
    "with open(\"paraImage.yaml\") as stream:\n",
    "    try:\n",
    "        para = yaml.safe_load(stream)\n",
    "    except yaml.YAMLError as exc:\n",
    "        print(exc)\n",
    "\n",
    "name = para[\"SimulationName\"]\n",
    "trans = para[\"translation\"]\n",
    "rot = para[\"rotation\"]\n",
    "triName = para[\"triSaveName\"]\n",
    "NeighborsName = para[\"NeighborsSaveName\"]\n",
    "InitialFrame = para[\"InitialFrameName\"]\n",
    "triangleFolder = para[\"triangleFolder\"]\n",
    "axe1 = para[\"axe1\"]\n",
    "axe2 = para[\"axe2\"]\n",
    "Nmin = para[\"Nmin\"]\n",
    "Rmax = para[\"Rmax\"]\n",
    "halfBoxSize = para[\"halfBoxSize\"]"
   ]
  },
  {
   "cell_type": "code",
   "execution_count": 15,
   "metadata": {},
   "outputs": [
    {
     "name": "stdout",
     "output_type": "stream",
     "text": [
      "<pNbody.main.Nbody object at 0x7f1b45b65ee0>\n"
     ]
    }
   ],
   "source": [
    "name = '/srv/astro/projects/clastro/revaz/ARRAKIHS/SWIFT_UFDS_TidalStripping/Sims/DW103/snap/snapshot_0066_stars.hdf5'\n",
    "nb = Nbody(name,ftype='swift')\n",
    "\n",
    "nb.translate(trans)\n",
    "print(nb)"
   ]
  },
  {
   "cell_type": "code",
   "execution_count": 19,
   "metadata": {},
   "outputs": [],
   "source": [
    "def download_simulation(name,trans,rot):\n",
    "    \"\"\"\n",
    "    def download_simulation(name,trans,rot):\n",
    "    Download un fichier hdf5 contenant une snapshot de Nbody simulation.\n",
    "    La function utilise pNbody et la simulation doit provenir du code SWIFT.\n",
    "    - name : string du path au ficheir hdf5\n",
    "    - trans : vecteur [x,y,z] de la translation de la simulation avec pNbody, nb = nb.translate(trans) (le code a besoin que les particules soit centrer en (0,0,0))\n",
    "    - rota : angle de rotation de pNbody, nb = nb.rotate(angle=rot)\n",
    "    \"\"\"\n",
    "\n",
    "\n",
    "    nb = Nbody(name,ftype='swift')\n",
    "\n",
    "    nb.translate(trans)\n",
    "    #nb = nb.rotate(angle=rot)\n",
    "    return nb\n"
   ]
  },
  {
   "cell_type": "code",
   "execution_count": 20,
   "metadata": {},
   "outputs": [],
   "source": [
    "nb0 = download_simulation(name,trans,rot)"
   ]
  },
  {
   "cell_type": "code",
   "execution_count": 21,
   "metadata": {},
   "outputs": [
    {
     "data": {
      "text/plain": [
       "array([[-221.4454   ,  -92.253265 ,  -21.174255 ],\n",
       "       [-173.30063  ,    5.2429504,   59.71399  ],\n",
       "       [ -96.02725  ,   -4.821228 , -110.23126  ],\n",
       "       ...,\n",
       "       [  96.16742  ,   32.76367  ,  111.48193  ],\n",
       "       [ 134.60632  ,   95.389465 ,  -68.747375 ],\n",
       "       [ 179.64587  ,  -23.69696  ,  -92.77368  ]], dtype=float32)"
      ]
     },
     "execution_count": 21,
     "metadata": {},
     "output_type": "execute_result"
    }
   ],
   "source": [
    "nb0.pos"
   ]
  },
  {
   "cell_type": "code",
   "execution_count": 22,
   "metadata": {},
   "outputs": [],
   "source": [
    "\n",
    "std_list = compute_std(nb0)\n",
    "nb0_scaled = scale_nb(nb0,std_list)"
   ]
  },
  {
   "cell_type": "code",
   "execution_count": null,
   "metadata": {},
   "outputs": [],
   "source": []
  },
  {
   "cell_type": "markdown",
   "metadata": {},
   "source": [
    "# test de PartialImage.py"
   ]
  },
  {
   "cell_type": "code",
   "execution_count": 1,
   "metadata": {},
   "outputs": [
    {
     "name": "stdout",
     "output_type": "stream",
     "text": [
      "Library\n",
      "numpy\n",
      "Delaunay\n",
      "matplotlib.pyplot\n"
     ]
    },
    {
     "name": "stderr",
     "output_type": "stream",
     "text": [
      "--------------------------------------------------------------------------\n",
      "WARNING: There is at least one non-excluded one OpenFabrics device found,\n",
      "but there are no active ports detected (or Open MPI was unable to use\n",
      "them).  This is most certainly not what you wanted.  Check your\n",
      "cables, subnet manager configuration, etc.  The openib BTL will be\n",
      "ignored for this job.\n",
      "\n",
      "  Local host: lesta02\n",
      "--------------------------------------------------------------------------\n"
     ]
    },
    {
     "name": "stdout",
     "output_type": "stream",
     "text": [
      "pNbody\n",
      "concaveDelaunayRefinement\n",
      "toolMockImage\n",
      "pickle\n",
      "yaml\n",
      "matplolib\n",
      "sys\n"
     ]
    }
   ],
   "source": [
    "print('Library')\n",
    "\n",
    "import numpy as np\n",
    "print('numpy')\n",
    "from scipy.spatial import Delaunay\n",
    "print(\"Delaunay\")\n",
    "import matplotlib.pyplot as plt\n",
    "print(\"matplotlib.pyplot\")\n",
    "from pNbody import*\n",
    "print(\"pNbody\")\n",
    "\n",
    "from concaveDelaunayRefinement import*\n",
    "print(\"concaveDelaunayRefinement\")\n",
    "\n",
    "from toolMockImage import*\n",
    "print(\"toolMockImage\")\n",
    "\n",
    "import pickle\n",
    "print(\"pickle\")\n",
    "import yaml\n",
    "print(\"yaml\")\n",
    "import matplotlib\n",
    "print(\"matplolib\")\n",
    "matplotlib.rcParams.update({'font.size': 14})\n",
    "\n",
    "import sys\n",
    "print(\"sys\")\n"
   ]
  },
  {
   "cell_type": "code",
   "execution_count": 7,
   "metadata": {},
   "outputs": [
    {
     "name": "stdout",
     "output_type": "stream",
     "text": [
      "Partial Image start\n",
      "scaling data\n",
      "The variable 'Neighbors' has been loaded successfully.\n",
      "The variable 'Tri' has been loaded successfully.\n",
      "parameter_a_list =[1]\n"
     ]
    }
   ],
   "source": [
    "\n",
    "print(\"Partial Image start\")\n",
    "\n",
    "with open(\"paraImage.yaml\") as stream:\n",
    "    try:\n",
    "        para = yaml.safe_load(stream)\n",
    "    except yaml.YAMLError as exc:\n",
    "        print(exc)\n",
    "\n",
    "name = para[\"SimulationName\"]\n",
    "trans = para[\"translation\"]\n",
    "triName = para[\"triSaveName\"]\n",
    "NeighborsName = para[\"NeighborsSaveName\"]\n",
    "InitialFrame = para[\"InitialFrameName\"]\n",
    "triangleFolder = para[\"triangleFolder\"]\n",
    "axe1 = para[\"axe1\"]\n",
    "axe2 = para[\"axe2\"]\n",
    "Nmin = para[\"Nmin\"]\n",
    "Rmax = para[\"Rmax\"]\n",
    "halfBoxSize = para[\"halfBoxSize\"]\n",
    "\n",
    "\n",
    "print('scaling data')\n",
    "nb0 = download_simulation(InitialFrame,trans)\n",
    "std_list = compute_std(nb0)\n",
    "nb0_scaled = scale_nb(nb0,std_list)\n",
    "\n",
    "nb = download_simulation(name,trans)\n",
    "nb_scaled = scale_nb(nb,std_list)\n",
    "\n",
    "nb_scaled_tList = [nb0_scaled,nb_scaled]\n",
    "\n",
    "file_path = NeighborsName\n",
    "with open(file_path, 'rb') as file:\n",
    "    loaded_data = pickle.load(file)\n",
    "\n",
    "print(\"The variable 'Neighbors' has been loaded successfully.\")\n",
    "\n",
    "neighbors = loaded_data\n",
    "\n",
    "file_path = triName\n",
    "with open(file_path, 'rb') as file:\n",
    "    loaded_data = pickle.load(file)\n",
    "\n",
    "print(\"The variable 'Tri' has been loaded successfully.\")\n",
    "\n",
    "tri0 = loaded_data\n",
    "\n",
    "filePara = 1#int(sys.argv[1])\n",
    "\n",
    "parameter_a_list = []\n",
    "#for ii in range(10):\n",
    "#    parameter_a_list.append(filePara*10+ii)\n",
    "parameter_a_list.append(filePara)\n",
    "print(f'parameter_a_list ={parameter_a_list}')\n"
   ]
  },
  {
   "cell_type": "markdown",
   "metadata": {},
   "source": [
    "### code retirer a toolMockImage.py"
   ]
  },
  {
   "cell_type": "code",
   "execution_count": 13,
   "metadata": {},
   "outputs": [],
   "source": [
    "def Scale_triangle_2d(vertex,std_List,ax1,ax2,halfBoxSize):\n",
    "    \"\"\"\n",
    "    def Scale_triangle_2d(vertex,std_List,ax1,ax2,halfBoxSize):\n",
    "    \n",
    "    this function scale the triangle's vertex to be projected. First std_list is use again to scale each coordinate to his true value. Then halfBoxSize is used such as all particle between [-halfBoxSize,halfBoxSize] is between [-1,1] to be prjected by pyOpenGl.\n",
    "    The image will include particle with coordinate in [-halfBoxSize,halfBoxSize].\n",
    "    input:\n",
    "        - vertex : list of vertex of the projected triangle. List of 2 dimensional array\n",
    "        - std_List : List [std_x,std_y,std_z,std_vx,std_vy,std_vz] compute by compute_std(nb)\n",
    "        - ax1 : axe of x coordinate of the image\n",
    "        - ax2 : axe of y coordinate of the image\n",
    "        - halfBoxSize : the half of the boxSize of the image (in Unit of the simulation)\n",
    "    return:\n",
    "        - List of vertex scale by halfBoxSize from the original value in the simulation\n",
    "    \"\"\"\n",
    "    #print(\"Scale_triangle_2d\")\n",
    "    for ii in range(len(vertex)):\n",
    "        vertex[ii][0] = vertex[ii][0]/halfBoxSize*std_List[ax1]\n",
    "        vertex[ii][1] = vertex[ii][1]/halfBoxSize*std_List[ax2]\n",
    "    return vertex\n",
    "\n",
    "def projection_6d_to_2d(tri,id_list,ax1,ax2):\n",
    "    \"\"\"\n",
    "    def projection_6d_to_2d(tri,id_list,ax1,ax2):\n",
    "    \n",
    "        fonction to compute the projection\n",
    "\n",
    "    input: \n",
    "        - tri : Delaunay triangulation of the image frame\n",
    "        - id_list : id_list of the simplices in the concave refinement obtain with concaveDelaunayRefinement.py\n",
    "        - ax1 : axe of x coordinate of the image\n",
    "        - ax2 : axe of y coordinate of the image\n",
    "    return:\n",
    "        - tri2d_list: List of Delaunay triangulation in two dimension. The triangle of the triangulation are the triangle to display\n",
    "        - for each triangle, a parameter alpha (matrix of float) representing it's intensity (abitrary unit). (it's a matrix alpha[trianglulation][triangle of the triangulation])\n",
    "    \"\"\"\n",
    "    print(\"projection_6d_to_2d\")\n",
    "    tri2d_list = []\n",
    "    alpha_list = []\n",
    "    jj=0\n",
    "    n=len(id_list)\n",
    "    for ii in id_list:\n",
    "        jj=jj+1\n",
    "        V = Tetrahedron6DVolume(tri.points[tri.simplices[ii]])\n",
    "        w2d = simplex_projection2d(tri.points[tri.simplices[ii]],ax1,ax2)\n",
    "        tri2d = Delaunay(w2d)\n",
    "        V2d_ListSimplices = delaunay_volume(tri2d)\n",
    "        V2d = np.sum(V2d_ListSimplices)\n",
    "        for ii in range(len(V2d_ListSimplices)):\n",
    "            V2d_ListSimplices[ii] = V/V2d\n",
    "        alpha = V2d_ListSimplices\n",
    "        tri2d_list.append(tri2d)\n",
    "        alpha_list.append(alpha)\n",
    "    return tri2d_list,alpha_list\n",
    "\n",
    "def VertexList2d(tri,std_List,id_list,ax1,ax2,halfBoxSize):\n",
    "    \"\"\"\n",
    "    input: \n",
    "        - tri : Delaunay triangulation of the image frame\n",
    "        - id_list : id_list of the simplices in the concave refinement obtain with concaveDelaunayRefinement.py\n",
    "        - ax1 : axe of x coordinate of the image\n",
    "        - ax2 : axe of y coordinate of the image\n",
    "        - halfBoxSize: the image will contain particle in [-halfBoxSize,halfBoxSize]\n",
    "    return:\n",
    "        - triangle_List: List of triangle (three two-dimensonal array) to display\n",
    "        - for each triangle, a parameter alpha (float) representing it's intensity (abitrary unit)\n",
    "    \"\"\"\n",
    "    print(\"vertexList2d\")\n",
    "    triangle_List = []\n",
    "    alpha = []\n",
    "    tri2d_list,alpha_list = projection_6d_to_2d(tri,id_list,ax1,ax2)\n",
    "    for ii in range(len(tri2d_list)):\n",
    "        for jj in range(len(tri2d_list[ii].simplices)):\n",
    "            vertices = tri2d_list[ii].points[tri2d_list[ii].simplices[jj]]\n",
    "            triangle_List = [*triangle_List,*Scale_triangle_2d(vertices,std_List,ax1,ax2,halfBoxSize)]\n",
    "            alpha.append(alpha_list[ii][jj])\n",
    "    return triangle_List,alpha"
   ]
  },
  {
   "cell_type": "code",
   "execution_count": 14,
   "metadata": {},
   "outputs": [
    {
     "name": "stdout",
     "output_type": "stream",
     "text": [
      "DEBBUG :: tri-file parameter 1\n",
      "DEBBUG :: iteration 1 of 1\n",
      "DEBBUG :: cell creation\n",
      "flag=0\n",
      "DEBUG : Concave Delaunay Algorithm\n",
      "DV/V = 1.671577891444908%\n",
      "0\n",
      "vertexList2d\n",
      "projection_6d_to_2d\n"
     ]
    },
    {
     "ename": "KeyboardInterrupt",
     "evalue": "",
     "output_type": "error",
     "traceback": [
      "\u001b[0;31m---------------------------------------------------------------------------\u001b[0m",
      "\u001b[0;31mKeyboardInterrupt\u001b[0m                         Traceback (most recent call last)",
      "Cell \u001b[0;32mIn[14], line 35\u001b[0m\n\u001b[1;32m     33\u001b[0m \u001b[38;5;28;01mif\u001b[39;00m flag\u001b[38;5;241m==\u001b[39m\u001b[38;5;241m0\u001b[39m:\n\u001b[1;32m     34\u001b[0m     \u001b[38;5;28mprint\u001b[39m(\u001b[38;5;241m0\u001b[39m)\n\u001b[0;32m---> 35\u001b[0m     tmp,opa \u001b[38;5;241m=\u001b[39m \u001b[43mVertexList2d\u001b[49m\u001b[43m(\u001b[49m\u001b[43mtri\u001b[49m\u001b[43m,\u001b[49m\u001b[43mstd_list\u001b[49m\u001b[43m,\u001b[49m\u001b[43mindex_List\u001b[49m\u001b[43m,\u001b[49m\u001b[43maxe1\u001b[49m\u001b[43m,\u001b[49m\u001b[43maxe2\u001b[49m\u001b[43m,\u001b[49m\u001b[43mhalfBoxSize\u001b[49m\u001b[43m)\u001b[49m\n\u001b[1;32m     36\u001b[0m     \u001b[38;5;28mprint\u001b[39m(\u001b[38;5;241m1\u001b[39m)\n\u001b[1;32m     37\u001b[0m     opa \u001b[38;5;241m=\u001b[39m opa\u001b[38;5;241m/\u001b[39mV_cons\n",
      "Cell \u001b[0;32mIn[13], line 76\u001b[0m, in \u001b[0;36mVertexList2d\u001b[0;34m(tri, std_List, id_list, ax1, ax2, halfBoxSize)\u001b[0m\n\u001b[1;32m     74\u001b[0m         vertices \u001b[38;5;241m=\u001b[39m tri2d_list[ii]\u001b[38;5;241m.\u001b[39mpoints[tri2d_list[ii]\u001b[38;5;241m.\u001b[39msimplices[jj]]\n\u001b[1;32m     75\u001b[0m         triangle_List \u001b[38;5;241m=\u001b[39m [\u001b[38;5;241m*\u001b[39mtriangle_List,\u001b[38;5;241m*\u001b[39mScale_triangle_2d(vertices,std_List,ax1,ax2,halfBoxSize)]\n\u001b[0;32m---> 76\u001b[0m         alpha\u001b[38;5;241m.\u001b[39mappend(alpha_list[ii][jj])\n\u001b[1;32m     77\u001b[0m \u001b[38;5;28;01mreturn\u001b[39;00m triangle_List,alpha\n",
      "\u001b[0;31mKeyboardInterrupt\u001b[0m: "
     ]
    }
   ],
   "source": [
    "\n",
    "for parameter_a in parameter_a_list:\n",
    "    cell_id_list = []\n",
    "    triangle_List = []\n",
    "    opacity_list = []\n",
    "    data = []\n",
    "    for ii in range(len(nb_scaled_tList[0].num)):\n",
    "        if ii==25:#ii%100==parameter_a:\n",
    "            cell_id_list.append(ii)\n",
    "\n",
    "    n = len(cell_id_list)\n",
    "    jj=0\n",
    "    print(f'DEBBUG :: tri-file parameter {parameter_a}')\n",
    "    \n",
    "    for p_id in cell_id_list:\n",
    "        jj=jj+1\n",
    "        print(f'DEBBUG :: iteration {jj} of {len(cell_id_list)}')\n",
    "        print(f'DEBBUG :: cell creation')\n",
    "        w_scale_tList = create_w_tList_cell(nb_scaled_tList,neighbors,p_id,Rmax=Rmax)\n",
    "        flag = 0\n",
    "        if len(w_scale_tList[0])<Nmin:\n",
    "            flag=1\n",
    "        else:\n",
    "            print('flag=0')\n",
    "            print('DEBUG : Concave Delaunay Algorithm')\n",
    "            index_conserved_simplex_tList,tri_tList,flag_tList = Volume_evolution_Liouville_condition_concave_delaunay_refinements(w_scale_tList,error_max=5,verbos=False)\n",
    "            flag = flag_tList[-1]\n",
    "            \n",
    "\n",
    "            index_List = index_conserved_simplex_tList[-1]\n",
    "            tri = tri_tList[-1]\n",
    "            V_cons = delaunay_volume_6D(tri_tList[0])\n",
    "\n",
    "            if flag==0:\n",
    "                print(0)\n",
    "                tmp,opa = VertexList2d(tri,std_list,index_List,axe1,axe2,halfBoxSize)\n",
    "                print(1)\n",
    "                opa = opa/V_cons\n",
    "                triangle_List = [*triangle_List,*tmp]\n",
    "                opacity_list = [*opacity_list,*opa]\n",
    "        if flag==1:\n",
    "            # code to add light in an other way\n",
    "            print('flag=1')\n",
    "    \"\"\"\n",
    "    print(f'number of triangle :: {len(triangle_List)}')\n",
    "    name = f'Partial_Image_{parameter_a}'\n",
    "\n",
    "    \n",
    "    for ii in range(len(triangle_List)):\n",
    "        data.append([triangle_List[ii][0],triangle_List[ii][1],opacity_list[ii//3]])\n",
    "\n",
    "\n",
    "    file_path_data = f'{triangleFolder}/{name}_data.pickle'\n",
    "    with open(file_path_data, 'wb') as file:\n",
    "        # Serialize and write the variable to the file\n",
    "        pickle.dump(data, file)\n",
    "\n",
    "    print(f'The variable \"data\" has been saved successfully. \\n File name :: {file_path_data}')\"\"\""
   ]
  },
  {
   "cell_type": "code",
   "execution_count": null,
   "metadata": {},
   "outputs": [],
   "source": []
  }
 ],
 "metadata": {
  "kernelspec": {
   "display_name": "Python 3",
   "language": "python",
   "name": "python3"
  },
  "language_info": {
   "codemirror_mode": {
    "name": "ipython",
    "version": 3
   },
   "file_extension": ".py",
   "mimetype": "text/x-python",
   "name": "python",
   "nbconvert_exporter": "python",
   "pygments_lexer": "ipython3",
   "version": "3.12.3"
  }
 },
 "nbformat": 4,
 "nbformat_minor": 2
}
