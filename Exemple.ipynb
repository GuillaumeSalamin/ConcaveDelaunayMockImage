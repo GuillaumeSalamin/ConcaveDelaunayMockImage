{
 "cells": [
  {
   "cell_type": "code",
   "execution_count": 16,
   "metadata": {},
   "outputs": [],
   "source": [
    "from toolMockImage import*\n",
    "import numpy as np\n",
    "from scipy.spatial import Delaunay\n",
    "import matplotlib.pyplot as plt\n",
    "import pickle \n",
    "import yaml\n",
    "\n",
    "with open(\"paraImage.yaml\") as stream:\n",
    "    try:\n",
    "        para = yaml.safe_load(stream)\n",
    "    except yaml.YAMLError as exc:\n",
    "        print(exc)\n",
    "\n",
    "name = para[\"SimulationName\"]\n",
    "trans = para[\"translation\"]\n",
    "rot = para[\"rotation\"]\n",
    "triName = para[\"triSaveName\"]\n",
    "NeighborsName = para[\"NeighborsSaveName\"]\n",
    "InitialFrame = para[\"InitialFrameName\"]\n",
    "triangleFolder = para[\"triangleFolder\"]\n",
    "axe1 = para[\"axe1\"]\n",
    "axe2 = para[\"axe2\"]\n",
    "Nmin = para[\"Nmin\"]\n",
    "Rmax = para[\"Rmax\"]\n",
    "halfBoxSize = para[\"halfBoxSize\"]"
   ]
  },
  {
   "cell_type": "code",
   "execution_count": 15,
   "metadata": {},
   "outputs": [
    {
     "name": "stdout",
     "output_type": "stream",
     "text": [
      "<pNbody.main.Nbody object at 0x7f1b45b65ee0>\n"
     ]
    }
   ],
   "source": [
    "name = '/srv/astro/projects/clastro/revaz/ARRAKIHS/SWIFT_UFDS_TidalStripping/Sims/DW103/snap/snapshot_0066_stars.hdf5'\n",
    "nb = Nbody(name,ftype='swift')\n",
    "\n",
    "nb.translate(trans)\n",
    "print(nb)"
   ]
  },
  {
   "cell_type": "code",
   "execution_count": 19,
   "metadata": {},
   "outputs": [],
   "source": [
    "def download_simulation(name,trans,rot):\n",
    "    \"\"\"\n",
    "    def download_simulation(name,trans,rot):\n",
    "    Download un fichier hdf5 contenant une snapshot de Nbody simulation.\n",
    "    La function utilise pNbody et la simulation doit provenir du code SWIFT.\n",
    "    - name : string du path au ficheir hdf5\n",
    "    - trans : vecteur [x,y,z] de la translation de la simulation avec pNbody, nb = nb.translate(trans) (le code a besoin que les particules soit centrer en (0,0,0))\n",
    "    - rota : angle de rotation de pNbody, nb = nb.rotate(angle=rot)\n",
    "    \"\"\"\n",
    "\n",
    "\n",
    "    nb = Nbody(name,ftype='swift')\n",
    "\n",
    "    nb.translate(trans)\n",
    "    #nb = nb.rotate(angle=rot)\n",
    "    return nb\n"
   ]
  },
  {
   "cell_type": "code",
   "execution_count": 20,
   "metadata": {},
   "outputs": [],
   "source": [
    "nb0 = download_simulation(name,trans,rot)"
   ]
  },
  {
   "cell_type": "code",
   "execution_count": 21,
   "metadata": {},
   "outputs": [
    {
     "data": {
      "text/plain": [
       "array([[-221.4454   ,  -92.253265 ,  -21.174255 ],\n",
       "       [-173.30063  ,    5.2429504,   59.71399  ],\n",
       "       [ -96.02725  ,   -4.821228 , -110.23126  ],\n",
       "       ...,\n",
       "       [  96.16742  ,   32.76367  ,  111.48193  ],\n",
       "       [ 134.60632  ,   95.389465 ,  -68.747375 ],\n",
       "       [ 179.64587  ,  -23.69696  ,  -92.77368  ]], dtype=float32)"
      ]
     },
     "execution_count": 21,
     "metadata": {},
     "output_type": "execute_result"
    }
   ],
   "source": [
    "nb0.pos"
   ]
  },
  {
   "cell_type": "code",
   "execution_count": 22,
   "metadata": {},
   "outputs": [],
   "source": [
    "\n",
    "std_list = compute_std(nb0)\n",
    "nb0_scaled = scale_nb(nb0,std_list)"
   ]
  },
  {
   "cell_type": "code",
   "execution_count": null,
   "metadata": {},
   "outputs": [],
   "source": []
  }
 ],
 "metadata": {
  "kernelspec": {
   "display_name": "Python 3",
   "language": "python",
   "name": "python3"
  },
  "language_info": {
   "codemirror_mode": {
    "name": "ipython",
    "version": 3
   },
   "file_extension": ".py",
   "mimetype": "text/x-python",
   "name": "python",
   "nbconvert_exporter": "python",
   "pygments_lexer": "ipython3",
   "version": "3.12.3"
  }
 },
 "nbformat": 4,
 "nbformat_minor": 2
}
